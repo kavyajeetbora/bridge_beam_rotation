{
 "cells": [
  {
   "cell_type": "markdown",
   "id": "585d361b",
   "metadata": {},
   "source": [
    "# About TDMS files\n",
    "\n",
    "TDMS is a structured, binary file format developed by National Instruments. Structured means that it defines measurements in channels. Each channel belongs to a channel group and a file contains multiple channel groups.\n",
    "\n",
    "![](https://knowledge.ni.com/servlet/rtaImage?eid=ka03q000000t0OS&feoid=00N3q00000HUsuE&refid=0EM3q000001e0vm)"
   ]
  },
  {
   "cell_type": "code",
   "execution_count": 43,
   "id": "9142beab",
   "metadata": {},
   "outputs": [],
   "source": [
    "from nptdms import TdmsFile"
   ]
  },
  {
   "cell_type": "markdown",
   "id": "1d540836",
   "metadata": {},
   "source": [
    "## Read the tdms_file"
   ]
  },
  {
   "cell_type": "code",
   "execution_count": 26,
   "id": "739401bf",
   "metadata": {},
   "outputs": [],
   "source": [
    "tdms_file = TdmsFile.read(\"data\\AMR_LogFile_2022-03-02-17-57-01.tdms\")"
   ]
  },
  {
   "cell_type": "markdown",
   "id": "98f26256",
   "metadata": {},
   "source": [
    "## List down all the groups"
   ]
  },
  {
   "cell_type": "code",
   "execution_count": 27,
   "id": "a21f6314",
   "metadata": {},
   "outputs": [
    {
     "data": {
      "text/plain": [
       "[<TdmsGroup with path /'Test Information'>, <TdmsGroup with path /'Log'>]"
      ]
     },
     "execution_count": 27,
     "metadata": {},
     "output_type": "execute_result"
    }
   ],
   "source": [
    "## Print out groups\n",
    "groups = tdms_file.groups()\n",
    "groups"
   ]
  },
  {
   "cell_type": "markdown",
   "id": "ace7bcb8",
   "metadata": {},
   "source": [
    "## Access a group"
   ]
  },
  {
   "cell_type": "code",
   "execution_count": 28,
   "id": "cac60a2d",
   "metadata": {},
   "outputs": [
    {
     "data": {
      "text/plain": [
       "<TdmsGroup with path /'Log'>"
      ]
     },
     "execution_count": 28,
     "metadata": {},
     "output_type": "execute_result"
    }
   ],
   "source": [
    "group = tdms_file[\"Log\"]\n",
    "group"
   ]
  },
  {
   "cell_type": "markdown",
   "id": "ca99908d",
   "metadata": {},
   "source": [
    "## access all the channels of a group"
   ]
  },
  {
   "cell_type": "code",
   "execution_count": 46,
   "id": "cccff41c",
   "metadata": {},
   "outputs": [
    {
     "data": {
      "text/plain": [
       "[<TdmsChannel with path /'Log'/'AMR-ACC-BU2-01-X'>,\n",
       " <TdmsChannel with path /'Log'/'AMR-ACC-BU2-01-Y'>,\n",
       " <TdmsChannel with path /'Log'/'AMR-ACC-BU2-01-Z'>,\n",
       " <TdmsChannel with path /'Log'/'AMR-ACC-BU3-01-X'>,\n",
       " <TdmsChannel with path /'Log'/'AMR-ACC-BU3-01-Y'>,\n",
       " <TdmsChannel with path /'Log'/'AMR-ACC-BU3-01-Z'>,\n",
       " <TdmsChannel with path /'Log'/'AMR-CRA-BAS-01'>,\n",
       " <TdmsChannel with path /'Log'/'AMR-CRA-BAS-02'>,\n",
       " <TdmsChannel with path /'Log'/'AMR-INC-BU1-01'>,\n",
       " <TdmsChannel with path /'Log'/'AMR-INC-BU2-01'>,\n",
       " <TdmsChannel with path /'Log'/'AMR-INC-BU3-01'>,\n",
       " <TdmsChannel with path /'Log'/'AMR-INC-BU4-01'>,\n",
       " <TdmsChannel with path /'Log'/'AMR-LAS-LKO-01'>,\n",
       " <TdmsChannel with path /'Log'/'AMR-TMP-KAL-01'>,\n",
       " <TdmsChannel with path /'Log'/'AMR-TMP-WEA-01'>,\n",
       " <TdmsChannel with path /'Log'/'AMR-WIR-BAS-01'>,\n",
       " <TdmsChannel with path /'Log'/'AMR-WIR-BAS-02'>,\n",
       " <TdmsChannel with path /'Log'/'AMR-WIR-BAS-03'>,\n",
       " <TdmsChannel with path /'Log'/'AMR-WIR-BU1-01'>,\n",
       " <TdmsChannel with path /'Log'/'AMR-WOR-WEA-01'>,\n",
       " <TdmsChannel with path /'Log'/'AMR-WVE-WEA-01'>,\n",
       " <TdmsChannel with path /'Log'/'cDAQ9189-1E6C9EFMod7/ctr0'>,\n",
       " <TdmsChannel with path /'Log'/'cDAQ9189-1E6C9EFMod7/ctr3'>,\n",
       " <TdmsChannel with path /'Log'/'cDAQ9189-1E6C9EFMod8/ctr0'>,\n",
       " <TdmsChannel with path /'Log'/'cDAQ9189-1E6C9EFMod8/ctr3'>]"
      ]
     },
     "execution_count": 46,
     "metadata": {},
     "output_type": "execute_result"
    }
   ],
   "source": [
    "all_group_channels = group.channels()\n",
    "all_group_channels"
   ]
  },
  {
   "cell_type": "markdown",
   "id": "89a871ac",
   "metadata": {},
   "source": [
    "## Access the data"
   ]
  },
  {
   "cell_type": "code",
   "execution_count": 45,
   "id": "ffa5264d",
   "metadata": {},
   "outputs": [
    {
     "data": {
      "text/plain": [
       "array([31.89869537, 31.85179417, 31.87992816, ..., 31.79551749,\n",
       "       31.78619637, 31.88929997])"
      ]
     },
     "execution_count": 45,
     "metadata": {},
     "output_type": "execute_result"
    }
   ],
   "source": [
    "group[\"AMR-INC-BU4-01\"][:]"
   ]
  },
  {
   "cell_type": "markdown",
   "id": "f63a9695",
   "metadata": {},
   "source": [
    "## Close the file"
   ]
  },
  {
   "cell_type": "code",
   "execution_count": 39,
   "id": "4126ce73",
   "metadata": {},
   "outputs": [],
   "source": [
    "tdms_file.close()"
   ]
  },
  {
   "cell_type": "markdown",
   "id": "588e53b3",
   "metadata": {},
   "source": [
    "# Function"
   ]
  },
  {
   "cell_type": "code",
   "execution_count": 53,
   "id": "fb89d813",
   "metadata": {},
   "outputs": [],
   "source": [
    "def read_tdms_data(filename, side=\"AMR\"):\n",
    "\n",
    "    data_dict = {}\n",
    "    with TdmsFile.open(filename) as tdms_file:\n",
    "        group = tdms_file[\"Log\"]\n",
    "        \n",
    "        for i in range(1,5):\n",
    "            data_dict[f'B{i}'] = group[f\"{side}-INC-BU{i}-01\"][:]\n",
    "        \n",
    "    return pd.DataFrame(data_dict)"
   ]
  },
  {
   "cell_type": "code",
   "execution_count": 55,
   "id": "515ad6bd",
   "metadata": {},
   "outputs": [
    {
     "data": {
      "text/html": [
       "<div>\n",
       "<style scoped>\n",
       "    .dataframe tbody tr th:only-of-type {\n",
       "        vertical-align: middle;\n",
       "    }\n",
       "\n",
       "    .dataframe tbody tr th {\n",
       "        vertical-align: top;\n",
       "    }\n",
       "\n",
       "    .dataframe thead th {\n",
       "        text-align: right;\n",
       "    }\n",
       "</style>\n",
       "<table border=\"1\" class=\"dataframe\">\n",
       "  <thead>\n",
       "    <tr style=\"text-align: right;\">\n",
       "      <th></th>\n",
       "      <th>B1</th>\n",
       "      <th>B2</th>\n",
       "      <th>B3</th>\n",
       "      <th>B4</th>\n",
       "    </tr>\n",
       "  </thead>\n",
       "  <tbody>\n",
       "    <tr>\n",
       "      <th>0</th>\n",
       "      <td>31.746708</td>\n",
       "      <td>33.350327</td>\n",
       "      <td>33.558487</td>\n",
       "      <td>31.898695</td>\n",
       "    </tr>\n",
       "    <tr>\n",
       "      <th>1</th>\n",
       "      <td>31.849919</td>\n",
       "      <td>33.415878</td>\n",
       "      <td>33.502203</td>\n",
       "      <td>31.851794</td>\n",
       "    </tr>\n",
       "    <tr>\n",
       "      <th>2</th>\n",
       "      <td>31.700026</td>\n",
       "      <td>33.350484</td>\n",
       "      <td>33.511613</td>\n",
       "      <td>31.879928</td>\n",
       "    </tr>\n",
       "    <tr>\n",
       "      <th>3</th>\n",
       "      <td>31.858766</td>\n",
       "      <td>33.406306</td>\n",
       "      <td>33.492844</td>\n",
       "      <td>31.842419</td>\n",
       "    </tr>\n",
       "    <tr>\n",
       "      <th>4</th>\n",
       "      <td>31.840792</td>\n",
       "      <td>33.406775</td>\n",
       "      <td>33.511695</td>\n",
       "      <td>31.861186</td>\n",
       "    </tr>\n",
       "    <tr>\n",
       "      <th>...</th>\n",
       "      <td>...</td>\n",
       "      <td>...</td>\n",
       "      <td>...</td>\n",
       "      <td>...</td>\n",
       "    </tr>\n",
       "    <tr>\n",
       "      <th>52090</th>\n",
       "      <td>31.803137</td>\n",
       "      <td>33.378385</td>\n",
       "      <td>33.558571</td>\n",
       "      <td>31.917451</td>\n",
       "    </tr>\n",
       "    <tr>\n",
       "      <th>52091</th>\n",
       "      <td>31.802933</td>\n",
       "      <td>33.369181</td>\n",
       "      <td>33.539710</td>\n",
       "      <td>31.823633</td>\n",
       "    </tr>\n",
       "    <tr>\n",
       "      <th>52092</th>\n",
       "      <td>31.821705</td>\n",
       "      <td>33.368843</td>\n",
       "      <td>33.502139</td>\n",
       "      <td>31.795517</td>\n",
       "    </tr>\n",
       "    <tr>\n",
       "      <th>52093</th>\n",
       "      <td>31.812573</td>\n",
       "      <td>33.444043</td>\n",
       "      <td>33.446041</td>\n",
       "      <td>31.786196</td>\n",
       "    </tr>\n",
       "    <tr>\n",
       "      <th>52094</th>\n",
       "      <td>31.737419</td>\n",
       "      <td>33.360062</td>\n",
       "      <td>33.539725</td>\n",
       "      <td>31.889300</td>\n",
       "    </tr>\n",
       "  </tbody>\n",
       "</table>\n",
       "<p>52095 rows × 4 columns</p>\n",
       "</div>"
      ],
      "text/plain": [
       "              B1         B2         B3         B4\n",
       "0      31.746708  33.350327  33.558487  31.898695\n",
       "1      31.849919  33.415878  33.502203  31.851794\n",
       "2      31.700026  33.350484  33.511613  31.879928\n",
       "3      31.858766  33.406306  33.492844  31.842419\n",
       "4      31.840792  33.406775  33.511695  31.861186\n",
       "...          ...        ...        ...        ...\n",
       "52090  31.803137  33.378385  33.558571  31.917451\n",
       "52091  31.802933  33.369181  33.539710  31.823633\n",
       "52092  31.821705  33.368843  33.502139  31.795517\n",
       "52093  31.812573  33.444043  33.446041  31.786196\n",
       "52094  31.737419  33.360062  33.539725  31.889300\n",
       "\n",
       "[52095 rows x 4 columns]"
      ]
     },
     "execution_count": 55,
     "metadata": {},
     "output_type": "execute_result"
    }
   ],
   "source": [
    "read_tdms_data(filename=\"data\\\\AMR_LogFile_2022-03-02-17-57-01.tdms\", side=\"AMR\")"
   ]
  },
  {
   "cell_type": "code",
   "execution_count": 57,
   "id": "3d7281ba",
   "metadata": {},
   "outputs": [
    {
     "data": {
      "text/html": [
       "<div>\n",
       "<style scoped>\n",
       "    .dataframe tbody tr th:only-of-type {\n",
       "        vertical-align: middle;\n",
       "    }\n",
       "\n",
       "    .dataframe tbody tr th {\n",
       "        vertical-align: top;\n",
       "    }\n",
       "\n",
       "    .dataframe thead th {\n",
       "        text-align: right;\n",
       "    }\n",
       "</style>\n",
       "<table border=\"1\" class=\"dataframe\">\n",
       "  <thead>\n",
       "    <tr style=\"text-align: right;\">\n",
       "      <th></th>\n",
       "      <th>B1</th>\n",
       "      <th>B2</th>\n",
       "      <th>B3</th>\n",
       "      <th>B4</th>\n",
       "    </tr>\n",
       "  </thead>\n",
       "  <tbody>\n",
       "    <tr>\n",
       "      <th>0</th>\n",
       "      <td>31.690080</td>\n",
       "      <td>31.380090</td>\n",
       "      <td>31.457575</td>\n",
       "      <td>32.611334</td>\n",
       "    </tr>\n",
       "    <tr>\n",
       "      <th>1</th>\n",
       "      <td>31.680067</td>\n",
       "      <td>31.339706</td>\n",
       "      <td>31.511379</td>\n",
       "      <td>32.627702</td>\n",
       "    </tr>\n",
       "    <tr>\n",
       "      <th>2</th>\n",
       "      <td>31.772449</td>\n",
       "      <td>31.349182</td>\n",
       "      <td>31.536160</td>\n",
       "      <td>32.583156</td>\n",
       "    </tr>\n",
       "    <tr>\n",
       "      <th>3</th>\n",
       "      <td>31.723207</td>\n",
       "      <td>31.397833</td>\n",
       "      <td>31.549842</td>\n",
       "      <td>32.615372</td>\n",
       "    </tr>\n",
       "    <tr>\n",
       "      <th>4</th>\n",
       "      <td>31.708577</td>\n",
       "      <td>31.363951</td>\n",
       "      <td>31.479559</td>\n",
       "      <td>32.613105</td>\n",
       "    </tr>\n",
       "    <tr>\n",
       "      <th>...</th>\n",
       "      <td>...</td>\n",
       "      <td>...</td>\n",
       "      <td>...</td>\n",
       "      <td>...</td>\n",
       "    </tr>\n",
       "    <tr>\n",
       "      <th>29171</th>\n",
       "      <td>31.725068</td>\n",
       "      <td>31.316674</td>\n",
       "      <td>31.550118</td>\n",
       "      <td>32.565274</td>\n",
       "    </tr>\n",
       "    <tr>\n",
       "      <th>29172</th>\n",
       "      <td>31.713906</td>\n",
       "      <td>31.376415</td>\n",
       "      <td>31.515468</td>\n",
       "      <td>32.601303</td>\n",
       "    </tr>\n",
       "    <tr>\n",
       "      <th>29173</th>\n",
       "      <td>31.696067</td>\n",
       "      <td>31.351262</td>\n",
       "      <td>31.487901</td>\n",
       "      <td>32.632724</td>\n",
       "    </tr>\n",
       "    <tr>\n",
       "      <th>29174</th>\n",
       "      <td>31.730845</td>\n",
       "      <td>31.330341</td>\n",
       "      <td>31.511243</td>\n",
       "      <td>32.580626</td>\n",
       "    </tr>\n",
       "    <tr>\n",
       "      <th>29175</th>\n",
       "      <td>31.705825</td>\n",
       "      <td>31.311245</td>\n",
       "      <td>31.546985</td>\n",
       "      <td>32.630929</td>\n",
       "    </tr>\n",
       "  </tbody>\n",
       "</table>\n",
       "<p>29176 rows × 4 columns</p>\n",
       "</div>"
      ],
      "text/plain": [
       "              B1         B2         B3         B4\n",
       "0      31.690080  31.380090  31.457575  32.611334\n",
       "1      31.680067  31.339706  31.511379  32.627702\n",
       "2      31.772449  31.349182  31.536160  32.583156\n",
       "3      31.723207  31.397833  31.549842  32.615372\n",
       "4      31.708577  31.363951  31.479559  32.613105\n",
       "...          ...        ...        ...        ...\n",
       "29171  31.725068  31.316674  31.550118  32.565274\n",
       "29172  31.713906  31.376415  31.515468  32.601303\n",
       "29173  31.696067  31.351262  31.487901  32.632724\n",
       "29174  31.730845  31.330341  31.511243  32.580626\n",
       "29175  31.705825  31.311245  31.546985  32.630929\n",
       "\n",
       "[29176 rows x 4 columns]"
      ]
     },
     "execution_count": 57,
     "metadata": {},
     "output_type": "execute_result"
    }
   ],
   "source": [
    "read_tdms_data(filename=\"data\\\\SJL_LogFile_2022-03-02-17-59-08.tdms\", side=\"SJL\")"
   ]
  }
 ],
 "metadata": {
  "kernelspec": {
   "display_name": "Python 3",
   "language": "python",
   "name": "python3"
  },
  "language_info": {
   "codemirror_mode": {
    "name": "ipython",
    "version": 3
   },
   "file_extension": ".py",
   "mimetype": "text/x-python",
   "name": "python",
   "nbconvert_exporter": "python",
   "pygments_lexer": "ipython3",
   "version": "3.8.8"
  },
  "toc": {
   "base_numbering": 1,
   "nav_menu": {},
   "number_sections": true,
   "sideBar": true,
   "skip_h1_title": false,
   "title_cell": "Table of Contents",
   "title_sidebar": "Contents",
   "toc_cell": false,
   "toc_position": {},
   "toc_section_display": true,
   "toc_window_display": false
  }
 },
 "nbformat": 4,
 "nbformat_minor": 5
}
