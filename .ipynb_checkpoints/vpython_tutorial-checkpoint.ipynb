{
 "cells": [
  {
   "cell_type": "code",
   "execution_count": 4,
   "id": "84ff59f5",
   "metadata": {},
   "outputs": [],
   "source": [
    "from vpython import *"
   ]
  },
  {
   "cell_type": "code",
   "execution_count": 18,
   "id": "8d29f2c6",
   "metadata": {},
   "outputs": [
    {
     "data": {
      "text/html": [
       "<div id=\"glowscript\" class=\"glowscript\"></div>"
      ],
      "text/plain": [
       "<IPython.core.display.HTML object>"
      ]
     },
     "metadata": {},
     "output_type": "display_data"
    },
    {
     "data": {
      "application/javascript": [
       "if (typeof Jupyter !== \"undefined\") { window.__context = { glowscript_container: $(\"#glowscript\").removeAttr(\"id\")};}else{ element.textContent = ' ';}"
      ],
      "text/plain": [
       "<IPython.core.display.Javascript object>"
      ]
     },
     "metadata": {},
     "output_type": "display_data"
    }
   ],
   "source": [
    "scene = canvas(title='Examples of Tetrahedrons',\n",
    "               width=600, height=300,\n",
    "               center=vector(0,0,0))\n",
    "redbox=box(pos=vector(1,0,0), size=vector(8,1,1),color=color.red)"
   ]
  },
  {
   "cell_type": "code",
   "execution_count": 19,
   "id": "0c22ef46",
   "metadata": {},
   "outputs": [
    {
     "data": {
      "text/plain": [
       "<bound method standardAttributes.rotate of <vpython.vpython.box object at 0x000001A2BEBF3160>>"
      ]
     },
     "execution_count": 19,
     "metadata": {},
     "output_type": "execute_result"
    }
   ],
   "source": [
    "redbox.rotate(angle=a, axis=vector(x,y,z),origin=vector(1,0,0))"
   ]
  },
  {
   "cell_type": "code",
   "execution_count": 8,
   "id": "c61205c9",
   "metadata": {},
   "outputs": [],
   "source": [
    "sphere()"
   ]
  }
 ],
 "metadata": {
  "kernelspec": {
   "display_name": "Python 3",
   "language": "python",
   "name": "python3"
  },
  "language_info": {
   "codemirror_mode": {
    "name": "ipython",
    "version": 3
   },
   "file_extension": ".py",
   "mimetype": "text/x-python",
   "name": "python",
   "nbconvert_exporter": "python",
   "pygments_lexer": "ipython3",
   "version": "3.8.8"
  },
  "toc": {
   "base_numbering": 1,
   "nav_menu": {},
   "number_sections": true,
   "sideBar": true,
   "skip_h1_title": false,
   "title_cell": "Table of Contents",
   "title_sidebar": "Contents",
   "toc_cell": false,
   "toc_position": {},
   "toc_section_display": true,
   "toc_window_display": false
  }
 },
 "nbformat": 4,
 "nbformat_minor": 5
}
